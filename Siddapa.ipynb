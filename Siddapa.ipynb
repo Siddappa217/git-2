{
  "nbformat": 4,
  "nbformat_minor": 0,
  "metadata": {
    "colab": {
      "provenance": [],
      "authorship_tag": "ABX9TyOaOBLKRVFfivaaVhovQdi7",
      "include_colab_link": true
    },
    "kernelspec": {
      "name": "python3",
      "display_name": "Python 3"
    },
    "language_info": {
      "name": "python"
    }
  },
  "cells": [
    {
      "cell_type": "markdown",
      "metadata": {
        "id": "view-in-github",
        "colab_type": "text"
      },
      "source": [
        "<a href=\"https://colab.research.google.com/github/Siddappa217/git-2/blob/main/Siddapa.ipynb\" target=\"_parent\"><img src=\"https://colab.research.google.com/assets/colab-badge.svg\" alt=\"Open In Colab\"/></a>"
      ]
    },
    {
      "cell_type": "code",
      "execution_count": null,
      "metadata": {
        "colab": {
          "base_uri": "https://localhost:8080/"
        },
        "id": "YdX2kuXzU48H",
        "outputId": "304a4918-b4de-4c24-ead3-bea170401792"
      },
      "outputs": [
        {
          "output_type": "stream",
          "name": "stdout",
          "text": [
            "0     5\n",
            "1    10\n",
            "2    15\n",
            "3    20\n",
            "4    25\n",
            "dtype: int64\n"
          ]
        }
      ],
      "source": [
        "import pandas as pd\n",
        "s1=pd.Series([5,10,15,20,25])\n",
        "print(s1)"
      ]
    },
    {
      "cell_type": "code",
      "source": [],
      "metadata": {
        "id": "WNX5S7bXdngr"
      },
      "execution_count": null,
      "outputs": []
    },
    {
      "cell_type": "code",
      "source": [
        "import pandas as pd\n",
        "s1=pd.Series([5,10,15,20,25],index=['a','b','c','d','e'])\n",
        "print(s1)"
      ],
      "metadata": {
        "colab": {
          "base_uri": "https://localhost:8080/"
        },
        "id": "TwCtpxFxV22J",
        "outputId": "527fa526-727a-4754-aa19-7c3ab9ac6493"
      },
      "execution_count": null,
      "outputs": [
        {
          "output_type": "stream",
          "name": "stdout",
          "text": [
            "a     5\n",
            "b    10\n",
            "c    15\n",
            "d    20\n",
            "e    25\n",
            "dtype: int64\n"
          ]
        }
      ]
    },
    {
      "cell_type": "code",
      "source": [
        "import pandas as pd\n",
        "s1=pd.Series([5,10,15,20,25],index=['a','b','c','d','e'])\n",
        "print(s1['c'])"
      ],
      "metadata": {
        "colab": {
          "base_uri": "https://localhost:8080/"
        },
        "id": "mwSTy1MDWAZg",
        "outputId": "fd216b24-1bc1-4261-9992-68ad69f9250b"
      },
      "execution_count": null,
      "outputs": [
        {
          "output_type": "stream",
          "name": "stdout",
          "text": [
            "15\n"
          ]
        }
      ]
    },
    {
      "cell_type": "code",
      "source": [
        "import pandas as pd\n",
        "s1=pd.Series([5,10,15,20,25],index=['a','b','c','d','e'])\n",
        "print(s1.max())"
      ],
      "metadata": {
        "colab": {
          "base_uri": "https://localhost:8080/"
        },
        "id": "GyDYhSI9WmrJ",
        "outputId": "d04ea6c5-af76-4df4-89f3-44c2aa3fb38d"
      },
      "execution_count": null,
      "outputs": [
        {
          "output_type": "stream",
          "name": "stdout",
          "text": [
            "25\n"
          ]
        }
      ]
    },
    {
      "cell_type": "code",
      "source": [
        "import pandas as pd\n",
        "s1=pd.Series([5,10,15,20,25],index=['a','b','c','d','e'])\n",
        "max_value=s1.max()\n",
        "print(max_value)"
      ],
      "metadata": {
        "colab": {
          "base_uri": "https://localhost:8080/"
        },
        "id": "K9k0Ws9HYN-o",
        "outputId": "38339fbb-739c-4b12-c46d-686d98225344"
      },
      "execution_count": null,
      "outputs": [
        {
          "output_type": "stream",
          "name": "stdout",
          "text": [
            "25\n"
          ]
        }
      ]
    },
    {
      "cell_type": "code",
      "source": [
        "import pandas as pd\n",
        "s1=pd.Series([5,10,15,20,25],index=['a','b','c','d','e'])\n",
        "print(s1)"
      ],
      "metadata": {
        "id": "8JLjXx2hYpEn",
        "colab": {
          "base_uri": "https://localhost:8080/"
        },
        "outputId": "d6334816-27c7-4b63-eeba-55a6daa06b67"
      },
      "execution_count": null,
      "outputs": [
        {
          "output_type": "stream",
          "name": "stdout",
          "text": [
            "a     5\n",
            "b    10\n",
            "c    15\n",
            "d    20\n",
            "e    25\n",
            "dtype: int64\n"
          ]
        }
      ]
    },
    {
      "cell_type": "code",
      "source": [
        "import pandas as pd\n",
        "s1=pd.Series({'apple':50,'banana':30,'cherry':20})\n",
        "print(s1)"
      ],
      "metadata": {
        "colab": {
          "base_uri": "https://localhost:8080/"
        },
        "id": "7vB-tlZrdobC",
        "outputId": "8fe22787-b904-454a-f5d9-6209fadbdb38"
      },
      "execution_count": null,
      "outputs": [
        {
          "output_type": "stream",
          "name": "stdout",
          "text": [
            "apple     50\n",
            "banana    30\n",
            "cherry    20\n",
            "dtype: int64\n"
          ]
        }
      ]
    },
    {
      "cell_type": "code",
      "source": [
        "import pandas as pd\n",
        "s1=pd.Series({'apple':50,'banana':30,'cherry':20})\n",
        "print([s1>25])"
      ],
      "metadata": {
        "colab": {
          "base_uri": "https://localhost:8080/"
        },
        "id": "MRthGCz3d7mD",
        "outputId": "b39961c0-6973-43d3-e0ea-dfd335f37dad"
      },
      "execution_count": null,
      "outputs": [
        {
          "output_type": "stream",
          "name": "stdout",
          "text": [
            "[apple      True\n",
            "banana     True\n",
            "cherry    False\n",
            "dtype: bool]\n"
          ]
        }
      ]
    },
    {
      "cell_type": "code",
      "metadata": {
        "colab": {
          "base_uri": "https://localhost:8080/"
        },
        "id": "88bead39",
        "outputId": "8a74d3ba-1e02-4780-a3f1-c085d0067e11"
      },
      "source": [
        "import pandas as pd\n",
        "timestamps = pd.Series([10, 20, 30, 40, 50],index=['a', 'b', 'c', 'd', 'e'])\n",
        "max_index = timestamps.idxmax()\n",
        "print(max_index)"
      ],
      "execution_count": null,
      "outputs": [
        {
          "output_type": "stream",
          "name": "stdout",
          "text": [
            "e\n"
          ]
        }
      ]
    },
    {
      "cell_type": "code",
      "source": [
        "import pandas as pd\n",
        "data={\n",
        "    'Name':['rupa','sita','geeta'],\n",
        "    'Age':[25,30,35],\n",
        "    'city':['bagalkot','solapur','gulbarga']\n",
        "    }\n",
        "df=pd.DataFrame(data)\n",
        "print(df)\n"
      ],
      "metadata": {
        "id": "InzbE8T9kKJu",
        "colab": {
          "base_uri": "https://localhost:8080/"
        },
        "outputId": "0e610443-8b57-4589-ce3a-dfa356907ba7"
      },
      "execution_count": null,
      "outputs": [
        {
          "output_type": "stream",
          "name": "stdout",
          "text": [
            "    Name  Age      city\n",
            "0   rupa   25  bagalkot\n",
            "1   sita   30   solapur\n",
            "2  geeta   35  gulbarga\n"
          ]
        }
      ]
    },
    {
      "cell_type": "code",
      "source": [
        "import pandas as pd\n",
        "data={\n",
        "    'Name':['rupa','sita','geeta'],\n",
        "    'Age':[25,30,35],\n",
        "    'city':['bagalkot','solapur','gulbarga']\n",
        "    }\n",
        "df=pd.DataFrame(data)\n",
        "df=df.sort_values('Age',ascending=False)\n",
        "print(df)"
      ],
      "metadata": {
        "colab": {
          "base_uri": "https://localhost:8080/"
        },
        "id": "30p4H4kwbCW2",
        "outputId": "e3eaf23b-ad7b-4383-a1bb-a591b85bf455"
      },
      "execution_count": null,
      "outputs": [
        {
          "output_type": "stream",
          "name": "stdout",
          "text": [
            "    Name  Age      city\n",
            "2  geeta   35  gulbarga\n",
            "1   sita   30   solapur\n",
            "0   rupa   25  bagalkot\n"
          ]
        }
      ]
    },
    {
      "cell_type": "code",
      "source": [
        "import pandas as pd\n",
        "data={\n",
        "    'Name':['rupa','sita','geeta'],\n",
        "    'Age':[25,30,35],\n",
        "    'city':['bagalkot','solapur','gulbarga']\n",
        "    }\n",
        "df=pd.DataFrame(data)\n",
        "df['salary']=[50000,60000,70000]\n",
        "print(df)"
      ],
      "metadata": {
        "colab": {
          "base_uri": "https://localhost:8080/"
        },
        "id": "xMOvdH2Tb8D2",
        "outputId": "06a6c9af-4911-4783-ce32-97e5baa8de50"
      },
      "execution_count": null,
      "outputs": [
        {
          "output_type": "stream",
          "name": "stdout",
          "text": [
            "    Name  Age      city  salary\n",
            "0   rupa   25  bagalkot   50000\n",
            "1   sita   30   solapur   60000\n",
            "2  geeta   35  gulbarga   70000\n"
          ]
        }
      ]
    },
    {
      "cell_type": "code",
      "source": [
        "import pandas as pd\n",
        "data={\n",
        "    'NAME':['RUPA','SITA','GEETA'],\n",
        "    'AGE':[25,30,35],\n",
        "    'CITY':['BAGALKOT','SOLAPUR','GULBARGA']\n",
        "}\n",
        "\n",
        "df=pd.DataFrame(data)\n",
        "age=df[df['AGE']>30]\n",
        "print(df)\n",
        "print(\"\\nthe age above 30:\\n\",age)"
      ],
      "metadata": {
        "colab": {
          "base_uri": "https://localhost:8080/"
        },
        "id": "PkniFEZ9cSvG",
        "outputId": "c709d560-055b-4da9-8e6e-c8e05c20b549"
      },
      "execution_count": null,
      "outputs": [
        {
          "output_type": "stream",
          "name": "stdout",
          "text": [
            "    NAME  AGE      CITY\n",
            "0   RUPA   25  BAGALKOT\n",
            "1   SITA   30   SOLAPUR\n",
            "2  GEETA   35  GULBARGA\n",
            "\n",
            "the age above 30:\n",
            "     NAME  AGE      CITY\n",
            "2  GEETA   35  GULBARGA\n"
          ]
        }
      ]
    },
    {
      "cell_type": "code",
      "source": [
        "import pandas as pd\n",
        "data={\n",
        "    'NAME':['RUPA','SITA','GEETA'],\n",
        "    'AGE':[25,30,35],\n",
        "    'CITY':['BAGALKOT','SOLAPUR','GULBARGA'],\n",
        "    'SALARY':[50000,60000,70000]\n",
        "}\n",
        "df=pd.DataFrame(data)\n",
        "df.loc[df['NAME']=='SITA','CITY']='BAGALKOT'\n",
        "print(df)"
      ],
      "metadata": {
        "colab": {
          "base_uri": "https://localhost:8080/"
        },
        "id": "kL7MR6fbeGfm",
        "outputId": "947cf196-166a-4627-ef52-ee2fcf4f0c45"
      },
      "execution_count": null,
      "outputs": [
        {
          "output_type": "stream",
          "name": "stdout",
          "text": [
            "    NAME  AGE      CITY  SALARY\n",
            "0   RUPA   25  BAGALKOT   50000\n",
            "1   SITA   30  BAGALKOT   60000\n",
            "2  GEETA   35  GULBARGA   70000\n"
          ]
        }
      ]
    },
    {
      "cell_type": "code",
      "source": [
        "import pandas as pd\n",
        "data={\n",
        "    'NAME':['RUPA','SITA','GEETA'],\n",
        "    'AGE':[25,30,35],\n",
        "    'CITY':['BAGALKOT','SOLAPUR','GULBARGA'],\n",
        "    'SALARY':[50000,60000,70000]\n",
        "}\n",
        "df=pd.DataFrame(data)\n",
        "df=df.drop('CITY',axis=1)\n",
        "print(df)"
      ],
      "metadata": {
        "colab": {
          "base_uri": "https://localhost:8080/"
        },
        "id": "Dcy24H4JeIgV",
        "outputId": "cd45fc3e-b662-4414-a55a-f3ae95e2e977"
      },
      "execution_count": null,
      "outputs": [
        {
          "output_type": "stream",
          "name": "stdout",
          "text": [
            "    NAME  AGE  SALARY\n",
            "0   RUPA   25   50000\n",
            "1   SITA   30   60000\n",
            "2  GEETA   35   70000\n"
          ]
        }
      ]
    },
    {
      "cell_type": "code",
      "source": [
        "import pandas as pd\n",
        "data={\n",
        "    'NAME':['RUPA','SITA','GEETA'],\n",
        "    'AGE':[25,30,35],\n",
        "    'SALARY':[50000,60000,70000]\n",
        "}\n",
        "df=pd.DataFrame(data)\n",
        "df_age=df['AGE'].mean()\n",
        "print(df_age)"
      ],
      "metadata": {
        "colab": {
          "base_uri": "https://localhost:8080/"
        },
        "id": "bseBH96CePdV",
        "outputId": "d76bbff6-450c-4c70-a70f-1fc86c88c6a8"
      },
      "execution_count": null,
      "outputs": [
        {
          "output_type": "stream",
          "name": "stdout",
          "text": [
            "30.0\n"
          ]
        }
      ]
    },
    {
      "cell_type": "code",
      "source": [
        "import pandas as pd\n",
        "data={\n",
        "    'NAME':['RUPA','SITA','GEETA'],\n",
        "    'AGE':[25,30,35],\n",
        "    'CITY':['BAGALKOT','SOLAPUR','GULBARGA'],\n",
        "    'SALARY':[50000,60000,70000]\n",
        "}\n",
        "df=pd.DataFrame(data)\n",
        "df_from=(df['CITY']=='BAGALKOT').any()\n",
        "print(df_from)"
      ],
      "metadata": {
        "colab": {
          "base_uri": "https://localhost:8080/"
        },
        "id": "Z_xUKehVeTFV",
        "outputId": "7b8b1c19-190f-4e6a-84f9-8aa0ad08d8d3"
      },
      "execution_count": null,
      "outputs": [
        {
          "output_type": "stream",
          "name": "stdout",
          "text": [
            "True\n"
          ]
        }
      ]
    },
    {
      "cell_type": "code",
      "source": [
        "import pandas as pd\n",
        "data={\n",
        "    'NAME':['RUPA','SITA','GEETA'],\n",
        "    'AGE':[25,30,35],\n",
        "    'CITY':['BAGALKOT','SOLAPUR','GULBARGA'],\n",
        "    'SALARY':[50000,60000,70000]\n",
        "}\n",
        "df=pd.DataFrame(data)\n",
        "sita_info=df[df['NAME']=='SITA']\n",
        "print(sita_info)"
      ],
      "metadata": {
        "colab": {
          "base_uri": "https://localhost:8080/"
        },
        "id": "MiZJQRP6eZKe",
        "outputId": "553a4196-12f4-48aa-e16a-5ac2b4d93856"
      },
      "execution_count": null,
      "outputs": [
        {
          "output_type": "stream",
          "name": "stdout",
          "text": [
            "   NAME  AGE     CITY  SALARY\n",
            "1  SITA   30  SOLAPUR   60000\n"
          ]
        }
      ]
    },
    {
      "cell_type": "code",
      "source": [
        "import pandas as pd\n",
        "data={\n",
        "    'NAME':['RUPA','SITA','GEETA'],\n",
        "    'AGE':[25,30,35],\n",
        "    'CITY':['BAGALKOT','SOLAPUR','GULBARGA'],\n",
        "    'SALARY':[50000,60000,70000]\n",
        "}\n",
        "df=pd.DataFrame(data)\n",
        "city_counts=df['CITY'].value_counts()\n",
        "print(city_counts)"
      ],
      "metadata": {
        "colab": {
          "base_uri": "https://localhost:8080/"
        },
        "id": "nxNwdEKtebAm",
        "outputId": "925d3e08-77fe-4660-cf02-c2601464acb0"
      },
      "execution_count": null,
      "outputs": [
        {
          "output_type": "stream",
          "name": "stdout",
          "text": [
            "CITY\n",
            "BAGALKOT    1\n",
            "SOLAPUR     1\n",
            "GULBARGA    1\n",
            "Name: count, dtype: int64\n"
          ]
        }
      ]
    },
    {
      "cell_type": "code",
      "source": [
        "import pandas as pd\n",
        "data={\n",
        "    'NAME':['RUPA','SITA','GEETA'],\n",
        "    'AGE':[25,30,35],\n",
        "    'CITY':['BAGALKOT','SOLAPUR','GULBARGA'],\n",
        "    'SALARY':[50000,60000,70000]\n",
        "}\n",
        "df=pd.DataFrame(data)\n",
        "df_salary=df[df['SALARY']==df['SALARY'].max()]\n",
        "print(df_salary)"
      ],
      "metadata": {
        "colab": {
          "base_uri": "https://localhost:8080/"
        },
        "id": "vYmPrCk9eivF",
        "outputId": "881eee8c-5f70-4fd5-c677-9b886c64c67c"
      },
      "execution_count": null,
      "outputs": [
        {
          "output_type": "stream",
          "name": "stdout",
          "text": [
            "    NAME  AGE      CITY  SALARY\n",
            "2  GEETA   35  GULBARGA   70000\n"
          ]
        }
      ]
    },
    {
      "cell_type": "code",
      "source": [
        "import pandas as pd\n",
        "\n",
        "data = {\n",
        "    'name': ['Ravi', 'Sita', 'Kiran', 'Maya'],\n",
        "    'age': [25, 30, 22, 28],\n",
        "    'city': ['Bangalore', 'Mysore', 'Bangalore', 'Delhi']\n",
        "}\n",
        "df = pd.DataFrame(data)\n",
        "\n",
        "# Update Sita's age to 28 (as integer)\n",
        "df.loc[df['name'] == 'Sita', 'age'] = 28\n",
        "\n",
        "print(df)\n"
      ],
      "metadata": {
        "colab": {
          "base_uri": "https://localhost:8080/"
        },
        "id": "FXx4uV7KmSLY",
        "outputId": "e8749d55-de29-4d96-a73c-e25a7a9216ba"
      },
      "execution_count": null,
      "outputs": [
        {
          "output_type": "stream",
          "name": "stdout",
          "text": [
            "    name  age       city\n",
            "0   Ravi   25  Bangalore\n",
            "1   Sita   28     Mysore\n",
            "2  Kiran   22  Bangalore\n",
            "3   Maya   28      Delhi\n"
          ]
        }
      ]
    },
    {
      "cell_type": "code",
      "source": [
        "import pandas as pd\n",
        "\n",
        "data = {\n",
        "    'name': ['Ravi', 'Sita', 'Kiran', 'Maya'],\n",
        "    'age': [25, 30, 22, 28],\n",
        "    'city': ['Bangalore', 'Mysore', 'Bangalore', 'Delhi'],\n",
        "    'salary': [50000, 60000, 55000, 70000]\n",
        "}\n",
        "df = pd.DataFrame(data)\n",
        "\n",
        "# Update Sita's age to 28 (as integer)\n",
        "df.loc[df['name'] == 'Sita', 'age'] = 28\n",
        "\n",
        "print(df)\n"
      ],
      "metadata": {
        "colab": {
          "base_uri": "https://localhost:8080/"
        },
        "id": "c54DUHOzmUK3",
        "outputId": "06a6112d-62ee-42ca-e60c-20503e3a4f84"
      },
      "execution_count": null,
      "outputs": [
        {
          "output_type": "stream",
          "name": "stdout",
          "text": [
            "    name  age       city  salary\n",
            "0   Ravi   25  Bangalore   50000\n",
            "1   Sita   28     Mysore   60000\n",
            "2  Kiran   22  Bangalore   55000\n",
            "3   Maya   28      Delhi   70000\n"
          ]
        }
      ]
    },
    {
      "cell_type": "code",
      "source": [
        "import pandas as pd\n",
        "\n",
        "data = {\n",
        "    'name': ['Ravi', 'Sita', 'Kiran', 'Maya'],\n",
        "    'age': [25, 30, 22, 28],\n",
        "    'city': ['Bangalore', 'Mysore', 'Bangalore', 'Delhi'],\n",
        "    'salary': [50000, 60000, 55000, 70000]\n",
        "}\n",
        "df = pd.DataFrame(data)\n",
        "\n",
        "# Update Sita's age to 28 (as integer)\n",
        "df.loc[df['name'] == 'Sita', 'salary'] = 80000\n",
        "\n",
        "print(df)\n"
      ],
      "metadata": {
        "colab": {
          "base_uri": "https://localhost:8080/"
        },
        "id": "KfDA01fhmdlY",
        "outputId": "0b574a89-aa1a-475f-f383-2e975f781d4e"
      },
      "execution_count": null,
      "outputs": [
        {
          "output_type": "stream",
          "name": "stdout",
          "text": [
            "    name  age       city  salary\n",
            "0   Ravi   25  Bangalore   50000\n",
            "1   Sita   30     Mysore   80000\n",
            "2  Kiran   22  Bangalore   55000\n",
            "3   Maya   28      Delhi   70000\n"
          ]
        }
      ]
    },
    {
      "cell_type": "code",
      "source": [
        "import pandas as pd\n",
        "\n",
        "data = {\n",
        "    'name': ['Ravi', 'Sita', 'Kiran', 'Maya'],\n",
        "    'age': [25, 30, 22, 28],\n",
        "    'city': ['Bangalore', 'Mysore', 'Bangalore', 'Delhi'],\n",
        "    'salary': [50000, 60000, 55000, 70000]\n",
        "}\n",
        "df = pd.DataFrame(data)\n",
        "\n",
        "# Update Sita's age to 28 (as integer)\n",
        "df.loc[df['name'] == 'Sita', 'name'] = 'hanimi'\n",
        "\n",
        "print(df)"
      ],
      "metadata": {
        "colab": {
          "base_uri": "https://localhost:8080/"
        },
        "id": "Ghnkk_8am6lI",
        "outputId": "562b7888-523f-4749-d002-2b7a50525b07"
      },
      "execution_count": null,
      "outputs": [
        {
          "output_type": "stream",
          "name": "stdout",
          "text": [
            "     name  age       city  salary\n",
            "0    Ravi   25  Bangalore   50000\n",
            "1  hanimi   30     Mysore   60000\n",
            "2   Kiran   22  Bangalore   55000\n",
            "3    Maya   28      Delhi   70000\n"
          ]
        }
      ]
    },
    {
      "cell_type": "code",
      "source": [
        "import pandas as pd\n",
        "\n",
        "data = {\n",
        "    'name': ['Ravi', 'Sita', 'Kiran', 'Maya'],\n",
        "    'age': [25, 30, 22, 28],\n",
        "    'city': ['Bangalore', 'Mysore', 'Bangalore', 'Delhi'],\n",
        "    'salary': [50000, 60000, 55000, 70000]\n",
        "}\n",
        "df = pd.DataFrame(data)\n",
        "df=df.sort_values(by='salary',ascending=True)\n",
        "print(df)"
      ],
      "metadata": {
        "colab": {
          "base_uri": "https://localhost:8080/"
        },
        "id": "OPEr7CYaozG6",
        "outputId": "c09bff91-45a2-4cbb-dd90-3eac7fee9583"
      },
      "execution_count": null,
      "outputs": [
        {
          "output_type": "stream",
          "name": "stdout",
          "text": [
            "    name  age       city  salary\n",
            "0   Ravi   25  Bangalore   50000\n",
            "2  Kiran   22  Bangalore   55000\n",
            "1   Sita   30     Mysore   60000\n",
            "3   Maya   28      Delhi   70000\n"
          ]
        }
      ]
    },
    {
      "cell_type": "code",
      "source": [
        "import pandas as pd\n",
        "\n",
        "data = {\n",
        "    'name': ['Ravi', 'Sita', 'Kiran', 'Maya'],\n",
        "    'age': [25, 30, 22, 28],\n",
        "    'city': ['Bangalore', 'Mysore', 'Bangalore', 'Delhi']\n",
        "}\n",
        "df = pd.DataFrame(data)\n",
        "\n",
        "# Drop row where name is 'Sita'\n",
        "df = df[df['name'] != 'Sita']\n",
        "\n",
        "print(df)\n"
      ],
      "metadata": {
        "colab": {
          "base_uri": "https://localhost:8080/"
        },
        "id": "sVjbBNFCvPTz",
        "outputId": "ba103404-17d7-4918-8209-098a01bb3b6f"
      },
      "execution_count": null,
      "outputs": [
        {
          "output_type": "stream",
          "name": "stdout",
          "text": [
            "    name  age       city\n",
            "0   Ravi   25  Bangalore\n",
            "2  Kiran   22  Bangalore\n",
            "3   Maya   28      Delhi\n"
          ]
        }
      ]
    },
    {
      "cell_type": "code",
      "source": [
        "import pandas as pd\n",
        "\n",
        "data = {\n",
        "    'name': ['Ravi', 'Sita', 'Kiran', 'Maya'],\n",
        "    'age': [25, 30, 22, 28],\n",
        "    'city': ['Bangalore', 'Mysore', 'Bangalore', 'Delhi']\n",
        "}\n",
        "df = pd.DataFrame(data)\n",
        "# Drop 'age' column correctly\n",
        "df = df.drop('age', axis=1)\n",
        "\n",
        "print(df)\n"
      ],
      "metadata": {
        "colab": {
          "base_uri": "https://localhost:8080/"
        },
        "id": "nfkn8FzKxcar",
        "outputId": "9b73b212-7a13-406a-f66f-e7a537dbf113"
      },
      "execution_count": null,
      "outputs": [
        {
          "output_type": "stream",
          "name": "stdout",
          "text": [
            "    name       city\n",
            "0   Ravi  Bangalore\n",
            "1   Sita     Mysore\n",
            "2  Kiran  Bangalore\n",
            "3   Maya      Delhi\n"
          ]
        }
      ]
    },
    {
      "cell_type": "code",
      "source": [
        "import pandas as pd\n",
        "\n",
        "data = {\n",
        "    'name': ['Ravi', 'Sita', 'Kiran', 'Maya'],\n",
        "    'age': [25, 30, 22, 28],\n",
        "    'city': ['Bangalore', 'Mysore', 'Bangalore', 'Delhi']\n",
        "}\n",
        "df = pd.DataFrame(data)\n",
        "# Drop 'age' column correctly\n",
        "df = df.drop(2, axis=0)\n",
        "\n",
        "print(df)\n"
      ],
      "metadata": {
        "colab": {
          "base_uri": "https://localhost:8080/"
        },
        "id": "AvEUrPbSxim7",
        "outputId": "76585d9c-ca08-4a1b-d8e2-8d6150a30106"
      },
      "execution_count": null,
      "outputs": [
        {
          "output_type": "stream",
          "name": "stdout",
          "text": [
            "   name  age       city\n",
            "0  Ravi   25  Bangalore\n",
            "1  Sita   30     Mysore\n",
            "3  Maya   28      Delhi\n"
          ]
        }
      ]
    },
    {
      "cell_type": "code",
      "source": [
        "import numpy as np\n",
        "arr = np.array([1, 2, 3, 4])\n",
        "print(arr.sum())\n"
      ],
      "metadata": {
        "colab": {
          "base_uri": "https://localhost:8080/"
        },
        "id": "WxoKxDT-vS1o",
        "outputId": "4f6bf13e-3447-4336-995b-4ba02ef743cd"
      },
      "execution_count": null,
      "outputs": [
        {
          "output_type": "stream",
          "name": "stdout",
          "text": [
            "10\n"
          ]
        }
      ]
    },
    {
      "cell_type": "code",
      "source": [
        "import numpy as np\n",
        "arr = np.array([1, 2, 3, 4])\n",
        "print(arr.mean())\n"
      ],
      "metadata": {
        "colab": {
          "base_uri": "https://localhost:8080/"
        },
        "id": "TWJRl8qpvcv4",
        "outputId": "756d667a-3a55-4660-83d6-6ba20a128203"
      },
      "execution_count": null,
      "outputs": [
        {
          "output_type": "stream",
          "name": "stdout",
          "text": [
            "2.5\n"
          ]
        }
      ]
    },
    {
      "cell_type": "code",
      "source": [
        "import numpy as np\n",
        "arr = np.array([1, 2, 3, 4])\n",
        "print(arr.min())\n"
      ],
      "metadata": {
        "colab": {
          "base_uri": "https://localhost:8080/"
        },
        "id": "U_2W0hg9vuAI",
        "outputId": "f3d29ce4-1fa0-42c8-d87f-f97f929475cf"
      },
      "execution_count": null,
      "outputs": [
        {
          "output_type": "stream",
          "name": "stdout",
          "text": [
            "1\n"
          ]
        }
      ]
    },
    {
      "cell_type": "code",
      "source": [
        "import numpy as np\n",
        "arr = np.array([1, 2, 3, 4])\n",
        "print(arr.max())\n"
      ],
      "metadata": {
        "colab": {
          "base_uri": "https://localhost:8080/"
        },
        "id": "tGdDw1xev2og",
        "outputId": "e800d7d0-8a6f-40fb-ea4e-4ca4da302fbe"
      },
      "execution_count": null,
      "outputs": [
        {
          "output_type": "stream",
          "name": "stdout",
          "text": [
            "4\n"
          ]
        }
      ]
    },
    {
      "cell_type": "code",
      "source": [
        "import numpy as np\n",
        "import random\n",
        "array = np.random.randint(16,size=(4,4))\n",
        "print(\"Input Array: \\n\",array)\n",
        "print(\"largest number in x axis: \",np.max(array,axis=1))\n",
        "print(\"largest number in y axis: \",np.max(array,axis=0))\n"
      ],
      "metadata": {
        "colab": {
          "base_uri": "https://localhost:8080/"
        },
        "id": "VV-f-pmFwM7Q",
        "outputId": "1c457943-b2a1-4863-d430-ae285f7ebcb1"
      },
      "execution_count": null,
      "outputs": [
        {
          "output_type": "stream",
          "name": "stdout",
          "text": [
            "Input Array: \n",
            " [[ 2 14 11  0]\n",
            " [13 10  4  1]\n",
            " [ 5  6  6  4]\n",
            " [10  1 11  2]]\n",
            "largest number in x axis:  [14 13  6 11]\n",
            "largest number in y axis:  [13 14 11  4]\n"
          ]
        }
      ]
    },
    {
      "cell_type": "code",
      "source": [
        "import numpy as np\n",
        "import random\n",
        "array = np.random.randint(16,size=(4,4))\n",
        "print(\"Input Array: \\n\",array)\n",
        "# Smallest element of the x and y axis\n",
        "print(\"Smallest number in x axis: \",np.min(array,axis=1))\n",
        "print(\"Smallest number in y axis: \",np.min(array,axis=0))\n",
        "print(array.std())"
      ],
      "metadata": {
        "colab": {
          "base_uri": "https://localhost:8080/"
        },
        "id": "8HGI0r_QlMNN",
        "outputId": "3fabf733-510c-4438-e61d-55185c5dfdcf"
      },
      "execution_count": null,
      "outputs": [
        {
          "output_type": "stream",
          "name": "stdout",
          "text": [
            "Input Array: \n",
            " [[ 9 10 12  6]\n",
            " [ 6  0 12  1]\n",
            " [ 2 13 11  9]\n",
            " [10 11 14 13]]\n",
            "Smallest number in x axis:  [ 6  0  2 10]\n",
            "Smallest number in y axis:  [ 2  0 11  1]\n",
            "4.297073859034773\n"
          ]
        }
      ]
    },
    {
      "cell_type": "code",
      "source": [
        "import pandas as pd\n",
        "# Create a sample DataFrame\n",
        "data = {\n",
        "    'Student': ['Alice', 'Bob', 'Charlie'],\n",
        "    'Math': [85, 90, 78],\n",
        "    'Science': [92, 88, 85],\n",
        "    'English': [75, 80, 72]\n",
        "}\n",
        "df = pd.DataFrame(data)\n",
        "print(\"Original Wide DataFrame:\\n\", df)\n"
      ],
      "metadata": {
        "colab": {
          "base_uri": "https://localhost:8080/"
        },
        "id": "ifJlLQFylm7n",
        "outputId": "0560e480-72f4-487e-c682-449ab16a92e3"
      },
      "execution_count": null,
      "outputs": [
        {
          "output_type": "stream",
          "name": "stdout",
          "text": [
            "Original Wide DataFrame:\n",
            "    Student  Math  Science  English\n",
            "0    Alice    85       92       75\n",
            "1      Bob    90       88       80\n",
            "2  Charlie    78       85       72\n"
          ]
        }
      ]
    },
    {
      "cell_type": "code",
      "source": [
        "import pandas as pd\n",
        "import numpy as np\n",
        "from functools import reduce\n",
        "df = pd.DataFrame({\n",
        "    'Name': ['Alice', 'Bob', 'Charlie', 'David'],\n",
        "    'Age': [25, 32, 30, 29],\n",
        "    'Salary': [50000, 60000, 55000, 52000]\n",
        "})\n",
        "print(df)"
      ],
      "metadata": {
        "colab": {
          "base_uri": "https://localhost:8080/"
        },
        "id": "YG0tExu-qIHF",
        "outputId": "b0eed23c-13fb-4e57-b474-ffcf668d468b"
      },
      "execution_count": null,
      "outputs": [
        {
          "output_type": "stream",
          "name": "stdout",
          "text": [
            "      Name  Age  Salary\n",
            "0    Alice   25   50000\n",
            "1      Bob   32   60000\n",
            "2  Charlie   30   55000\n",
            "3    David   29   52000\n"
          ]
        }
      ]
    },
    {
      "cell_type": "code",
      "source": [
        "import matplotlib.pyplot as plt\n",
        "categories = ['Category A', 'Category B', 'Category C']\n",
        "amounts = [25, 50, 30]\n",
        "plt.bar(categories, amounts)\n",
        "plt.xlabel('Categories')\n",
        "plt.ylabel('Amounts')\n",
        "plt.title('Bar Chart of Amounts by Category')\n",
        "plt.show()"
      ],
      "metadata": {
        "id": "u2Jk1_JvqmE9",
        "colab": {
          "base_uri": "https://localhost:8080/",
          "height": 472
        },
        "outputId": "d4e7ad4c-af4a-431c-934c-5b4f073e1aab"
      },
      "execution_count": null,
      "outputs": [
        {
          "output_type": "display_data",
          "data": {
            "text/plain": [
              "<Figure size 640x480 with 1 Axes>"
            ],
            "image/png": "[encoded data removed]"
          },
          "metadata": {}
        }
      ]
    },
    {
      "cell_type": "code",
      "source": [
        "import matplotlib.pyplot as plt\n",
        "categories = ['Category A', 'Category B', 'Category C']\n",
        "amounts = [25, 50, 30]\n",
        "plt.pie(amounts, labels=categories, autopct='%1.1f%%')\n",
        "plt.title('Pie Chart of Amounts by Category')\n",
        "plt.show()"
      ],
      "metadata": {
        "colab": {
          "base_uri": "https://localhost:8080/",
          "height": 428
        },
        "id": "fzoInfGszBbN",
        "outputId": "476b6142-1fff-41c3-c1fe-0e482af74d59"
      },
      "execution_count": null,
      "outputs": [
        {
          "output_type": "display_data",
          "data": {
            "text/plain": [
              "<Figure size 640x480 with 1 Axes>"
            ],
            "image/png": "[encoded data removed]"
          },
          "metadata": {}
        }
      ]
    },
    {
      "cell_type": "code",
      "source": [
        "import matplotlib.pyplot as plt\n",
        "years = [2010, 2011, 2012, 2013, 2014]\n",
        "amounts = [100, 120, 140, 110, 150]\n",
        "plt.plot(years, amounts, marker='o', linestyle='-')\n",
        "plt.xlabel('Year')\n",
        "plt.ylabel('Amount')\n",
        "plt.title('Line Chart of Amounts Over Time')\n",
        "plt.grid(True)\n",
        "plt.show()"
      ],
      "metadata": {
        "colab": {
          "base_uri": "https://localhost:8080/",
          "height": 472
        },
        "id": "RcF7q5SxzHnr",
        "outputId": "2e959881-5494-491c-d240-17792e049324"
      },
      "execution_count": null,
      "outputs": [
        {
          "output_type": "display_data",
          "data": {
            "text/plain": [
              "<Figure size 640x480 with 1 Axes>"
            ],
            "image/png": "[encoded data removed]"
          },
          "metadata": {}
        }
      ]
    },
    {
      "cell_type": "code",
      "source": [
        "import matplotlib.pyplot as plt\n",
        "x = [10, 20, 30, 40, 50]\n",
        "y = [50, 40, 30, 20, 10]\n",
        "plt.scatter(x, y)\n",
        "plt.xlabel('X-Axis')\n",
        "plt.ylabel('Y-Axis')\n",
        "plt.title('Scatter Plot of X vs. Y')\n",
        "plt.grid(True)\n",
        "plt.show()"
      ],
      "metadata": {
        "colab": {
          "base_uri": "https://localhost:8080/",
          "height": 472
        },
        "id": "UH268YWvzU7l",
        "outputId": "99279057-13b9-4ff5-8d3a-41ae7100c181"
      },
      "execution_count": null,
      "outputs": [
        {
          "output_type": "display_data",
          "data": {
            "text/plain": [
              "<Figure size 640x480 with 1 Axes>"
            ],
            "image/png": "[encoded data removed]"
          },
          "metadata": {}
        }
      ]
    },
    {
      "cell_type": "code",
      "source": [
        "import matplotlib.pyplot as plt\n",
        "import numpy as np\n",
        "data = np.random.randn(1000)\n",
        "plt.hist(data, bins=20, edgecolor='k')\n",
        "plt.xlabel('Value')\n",
        "plt.ylabel('Frequency')\n",
        "plt.title('Histogram of Data')\n",
        "plt.show()"
      ],
      "metadata": {
        "colab": {
          "base_uri": "https://localhost:8080/",
          "height": 472
        },
        "id": "mmlgFnmbzaNN",
        "outputId": "220c02f2-8594-41b8-e27e-4f2ff7f6be4b"
      },
      "execution_count": null,
      "outputs": [
        {
          "output_type": "display_data",
          "data": {
            "text/plain": [
              "<Figure size 640x480 with 1 Axes>"
            ],
            "image/png": "[encoded data removed]"
          },
          "metadata": {}
        }
      ]
    },
    {
      "cell_type": "code",
      "source": [
        "import matplotlib.pyplot as plt\n",
        "import numpy as np\n",
        "mu, sigma = 0, 1\n",
        "data = np.random.normal(mu, sigma, 1000)\n",
        "plt.hist(data, bins=30, edgecolor='k', alpha=0.7)\n",
        "plt.xlabel('Value')\n",
        "plt.ylabel('Frequency')\n",
        "plt.title('Histogram of a Normal Distribution')\n",
        "plt.grid(True)\n",
        "plt.show()"
      ],
      "metadata": {
        "colab": {
          "base_uri": "https://localhost:8080/",
          "height": 472
        },
        "id": "mDTD5gouzqdt",
        "outputId": "6c2594cb-2ec2-441a-a698-19ba0308302e"
      },
      "execution_count": null,
      "outputs": [
        {
          "output_type": "display_data",
          "data": {
            "text/plain": [
              "<Figure size 640x480 with 1 Axes>"
            ],
            "image/png": "[encoded data removed]"
          },
          "metadata": {}
        }
      ]
    },
    {
      "cell_type": "code",
      "source": [
        "import matplotlib.pyplot as plt\n",
        "import numpy as np\n",
        "low, high = 0, 10\n",
        "data = np.random.uniform(low, high, 1000)\n",
        "plt.hist(data, bins=20, edgecolor='k', alpha=0.7)\n",
        "plt.xlabel('Value')\n",
        "plt.ylabel('Frequency')\n",
        "plt.title('Histogram of a Uniform Distribution')\n",
        "plt.grid(True)\n",
        "plt.show()"
      ],
      "metadata": {
        "colab": {
          "base_uri": "https://localhost:8080/",
          "height": 472
        },
        "id": "g41V8_guz3Ij",
        "outputId": "782652dc-acc1-4471-f0d4-bd478de2b2e6"
      },
      "execution_count": null,
      "outputs": [
        {
          "output_type": "display_data",
          "data": {
            "text/plain": [
              "<Figure size 640x480 with 1 Axes>"
            ],
            "image/png": "[encoded data removed]"
          },
          "metadata": {}
        }
      ]
    },
    {
      "cell_type": "code",
      "source": [
        "import matplotlib.pyplot as plt\n",
        "import numpy as np\n",
        "scale = 1.0\n",
        "data = np.random.exponential(scale, 1000)\n",
        "plt.hist(data, bins=20, edgecolor='k', alpha=0.7)\n",
        "plt.xlabel('Value')\n",
        "plt.ylabel('Frequency')\n",
        "plt.title('Histogram of an Exponential Distribution')\n",
        "plt.grid(True)\n",
        "plt.show()"
      ],
      "metadata": {
        "colab": {
          "base_uri": "https://localhost:8080/",
          "height": 472
        },
        "id": "qnj2sceaz_dc",
        "outputId": "72ffb0ad-5583-4125-b734-30354646ae94"
      },
      "execution_count": null,
      "outputs": [
        {
          "output_type": "display_data",
          "data": {
            "text/plain": [
              "<Figure size 640x480 with 1 Axes>"
            ],
            "image/png": "[encoded data removed]"
          },
          "metadata": {}
        }
      ]
    },
    {
      "cell_type": "code",
      "source": [
        "import seaborn as sns\n",
        "import numpy as np\n",
        "mu, sigma = 0, 1\n",
        "data = np.random.normal(mu, sigma, 1000)\n",
        "sns.kdeplot(data, shade=True)\n",
        "plt.xlabel('Value')\n",
        "plt.ylabel('Density')\n",
        "plt.title('Kernel Density Estimation (KDE) Plot of a Normal Distribution')\n",
        "plt.show()"
      ],
      "metadata": {
        "colab": {
          "base_uri": "https://localhost:8080/",
          "height": 576
        },
        "id": "lXXBLPcJ0hst",
        "outputId": "5aca755d-fd4c-4795-ac88-961648d4731e"
      },
      "execution_count": null,
      "outputs": [
        {
          "output_type": "stream",
          "name": "stderr",
          "text": [
            "/tmp/ipython-input-9-3478709504.py:5: FutureWarning: \n",
            "\n",
            "`shade` is now deprecated in favor of `fill`; setting `fill=True`.\n",
            "This will become an error in seaborn v0.14.0; please update your code.\n",
            "\n",
            "  sns.kdeplot(data, shade=True)\n"
          ]
        },
        {
          "output_type": "display_data",
          "data": {
            "text/plain": [
              "<Figure size 640x480 with 1 Axes>"
            ],
            "image/png": "[encoded data removed]"
          },
          "metadata": {}
        }
      ]
    },
    {
      "cell_type": "code",
      "source": [
        "import seaborn as sns\n",
        "data1 = np.random.normal(0, 1, 1000)\n",
        "data2 = np.random.normal(2, 1, 1000)\n",
        "sns.boxplot(data=[data1, data2])\n",
        "plt.xlabel('Distribution')\n",
        "plt.ylabel('Value')\n",
        "plt.title('Box Plot Comparison of Two Distributions')\n",
        "plt.show()"
      ],
      "metadata": {
        "colab": {
          "base_uri": "https://localhost:8080/",
          "height": 472
        },
        "id": "7v2s0Vl10ziT",
        "outputId": "2e76f5f1-c4ca-49f6-ef0b-56294f86cbb2"
      },
      "execution_count": null,
      "outputs": [
        {
          "output_type": "display_data",
          "data": {
            "text/plain": [
              "<Figure size 640x480 with 1 Axes>"
            ],
            "image/png": "[encoded data removed]"
          },
          "metadata": {}
        }
      ]
    },
    {
      "cell_type": "code",
      "source": [
        "import pandas as pd\n",
        "df=pd.read_csv(\"/iris.csv\")\n",
        "print(df)"
      ],
      "metadata": {
        "colab": {
          "base_uri": "https://localhost:8080/"
        },
        "id": "aw5LRFGroOm9",
        "outputId": "b46e5480-6aec-4907-f456-741487b638e6"
      },
      "execution_count": 30,
      "outputs": [
        {
          "output_type": "stream",
          "name": "stdout",
          "text": [
            "     sepal_length  sepal_width  petal_length  petal_width    species\n",
            "0             5.1          3.5           1.4          0.2     setosa\n",
            "1             4.9          3.0           1.4          0.2     setosa\n",
            "2             4.7          3.2           1.3          0.2     setosa\n",
            "3             4.6          3.1           1.5          0.2     setosa\n",
            "4             5.0          3.6           1.4          0.2     setosa\n",
            "..            ...          ...           ...          ...        ...\n",
            "145           6.7          3.0           5.2          2.3  virginica\n",
            "146           6.3          2.5           5.0          1.9  virginica\n",
            "147           6.5          3.0           5.2          2.0  virginica\n",
            "148           6.2          3.4           5.4          2.3  virginica\n",
            "149           5.9          3.0           5.1          1.8  virginica\n",
            "\n",
            "[150 rows x 5 columns]\n"
          ]
        }
      ]
    }
  ]
}